{
 "cells": [
  {
   "cell_type": "code",
   "execution_count": 50,
   "metadata": {},
   "outputs": [],
   "source": [
    "import numpy as np\n",
    "import pylab as pl\n",
    "from os.path import join as pjoin\n",
    "from mvpa2 import cfg\n",
    "\n",
    "import mvpa2\n",
    "from os.path import exists, join  \n",
    "import mvpa2.suite as mv\n",
    "import glob\n",
    "import numpy as np\n",
    "import sys\n",
    "from mvpa2.suite import *\n",
    "\n",
    "from mvpa2.measures import rsa"
   ]
  },
  {
   "cell_type": "code",
   "execution_count": 28,
   "metadata": {},
   "outputs": [],
   "source": [
    "file_loc = '/dartfs-hpc/scratch/psyc164/mvpaces/masks/fusiform_association-test_z_FDR_0.01.nii.gz'\n",
    "ds = mv.fmri_dataset(file_loc)"
   ]
  },
  {
   "cell_type": "code",
   "execution_count": 29,
   "metadata": {},
   "outputs": [
    {
     "data": {
      "text/plain": [
       "(1, 902629)"
      ]
     },
     "execution_count": 29,
     "metadata": {},
     "output_type": "execute_result"
    }
   ],
   "source": [
    "ds.shape"
   ]
  },
  {
   "cell_type": "code",
   "execution_count": 30,
   "metadata": {},
   "outputs": [
    {
     "data": {
      "text/plain": [
       "241540"
      ]
     },
     "execution_count": 30,
     "metadata": {},
     "output_type": "execute_result"
    }
   ],
   "source": [
    "# get location of voxel with maximum value\n",
    "np.argmax(ds.samples)"
   ]
  },
  {
   "cell_type": "code",
   "execution_count": 41,
   "metadata": {},
   "outputs": [],
   "source": [
    "# Starting Actual number 2 for assignemt 2\n",
    "# set everything up ! \n",
    "subid = [1] # ,12,17,27,32,33,34,36,37,41]\n",
    "subjs = ['{:0>6}'.format(i) for i in subid]\n",
    "hemis = ['lh', 'rh']\n",
    "data_path = '/dartfs-hpc/scratch/psyc164/mvpaces/glm/'\n",
    "mask_path = '/dartfs-hpc/scratch/psyc164/mvpaces/masks/fusiform.nii'\n",
    "datalad_path = '/dartfs/rc/lab/D/DBIC/DBIC/datasets.datalad.org/labs/haxby/attention/derivatives/'\n",
    "\n",
    "# change accordingly\n",
    "tasks = ['beh','tax']\n",
    "sub, hemi = subjs[0], hemis[0]\n",
    "prefix = 'sub-rid'+sub\n",
    "suffix = hemi+'.coefs.gii'\n",
    "\n",
    "\n",
    "taxonomy = np.repeat(['bird', 'insect', 'primate', 'reptile', 'unduate'],4)\n",
    "behavior = np.tile(['eating', 'fighting', 'running', 'swimming'],5)\n",
    "conditions = [' '.join((beh, tax)) for beh, tax in zip(behavior, taxonomy)]"
   ]
  },
  {
   "cell_type": "code",
   "execution_count": 17,
   "metadata": {},
   "outputs": [],
   "source": [
    "# grab all subj1's  files into a list\n",
    "#fn = data_path+sub_pref+'*lh.coefs.gii'\n",
    "fn = data_path+prefix+'*'+suffix\n",
    "files = sorted(glob.glob(fn))"
   ]
  },
  {
   "cell_type": "code",
   "execution_count": 66,
   "metadata": {},
   "outputs": [],
   "source": [
    "# load data into pymvpa dataset\n",
    "n_vertices = 40962\n",
    "targets = range(1,21)\n",
    "ds = None\n",
    "for x in range(len(files)):\n",
    "    chunks = [x+1]*20\n",
    "    d = mv.gifti_dataset(files[x], chunks=chunks, targets=conditions)\n",
    "    d.sa['targets']=conditions\n",
    "    d.sa['taxonomy'] = taxonomy\n",
    "    d.sa['behavior'] = behavior\n",
    "    if ds is None:\n",
    "        ds = d\n",
    "    else:      \n",
    "        ds = mv.vstack((ds,d))\n",
    "    #ds.fa['node_indices'] = range(n_vertices)\n",
    "    ds.fa['node_indices'] = range(n_vertices)\n",
    "#     ds.samples = zscore(ds.samples, axis=1)"
   ]
  },
  {
   "cell_type": "code",
   "execution_count": 35,
   "metadata": {},
   "outputs": [],
   "source": [
    "# function for plotting RDM once computed\n",
    "def plot_mtx(mtx, labels, title):\n",
    "    pl.figure()\n",
    "    pl.imshow(mtx, interpolation='nearest')\n",
    "    pl.xticks(range(len(mtx)), labels, rotation=-45)\n",
    "    pl.yticks(range(len(mtx)), labels)\n",
    "    pl.title(title)\n",
    "    pl.clim((0, 2))\n",
    "    pl.colorbar()"
   ]
  },
  {
   "cell_type": "code",
   "execution_count": 36,
   "metadata": {},
   "outputs": [],
   "source": [
    "# compute a dataset with the mean samples for all conditions\n",
    "from mvpa2.mappers.fx import mean_group_sample\n",
    "mtgs = mean_group_sample(['targets'])\n",
    "mtds = mtgs(ds)"
   ]
  },
  {
   "cell_type": "code",
   "execution_count": 99,
   "metadata": {},
   "outputs": [],
   "source": [
    "list_of_nodes = 3"
   ]
  },
  {
   "cell_type": "code",
   "execution_count": 159,
   "metadata": {},
   "outputs": [],
   "source": [
    "surf = mv.surf.read(join(data_path, '{0}.pial.gii'.format(hemi)))\n",
    "qe = mv.SurfaceQueryEngine(surf, 5.0, distance_metric='dijkstra')\n",
    "qe.train(ds)"
   ]
  },
  {
   "cell_type": "code",
   "execution_count": 173,
   "metadata": {},
   "outputs": [],
   "source": [
    "# same as above, but done in a searchlight fashion\n",
    "dsm = rsa.PDist(square=False)\n",
    "sl = Searchlight(dsm, qe, roi_ids=qe.query_byid(123))\n",
    "slres = sl(mtds)"
   ]
  },
  {
   "cell_type": "code",
   "execution_count": 161,
   "metadata": {},
   "outputs": [
    {
     "data": {
      "text/plain": [
       "(190, 40)"
      ]
     },
     "execution_count": 161,
     "metadata": {},
     "output_type": "execute_result"
    }
   ],
   "source": [
    "slres.shape"
   ]
  },
  {
   "cell_type": "code",
   "execution_count": 136,
   "metadata": {},
   "outputs": [],
   "source": [
    "ds.fa['new'] = np.zeros(40962)"
   ]
  },
  {
   "cell_type": "code",
   "execution_count": 138,
   "metadata": {},
   "outputs": [
    {
     "data": {
      "text/plain": [
       "0.0"
      ]
     },
     "execution_count": 138,
     "metadata": {},
     "output_type": "execute_result"
    }
   ],
   "source": [
    "ds.fa['new'][12345] "
   ]
  },
  {
   "cell_type": "code",
   "execution_count": 163,
   "metadata": {},
   "outputs": [],
   "source": [
    "np_path = '/dartfs-hpc/scratch/psyc164/mvpaces/lab2/results/rsa_sl_isc_lh.npy'\n",
    "x = np.load(np_path)"
   ]
  },
  {
   "cell_type": "code",
   "execution_count": 164,
   "metadata": {},
   "outputs": [
    {
     "data": {
      "text/plain": [
       "(40962,)"
      ]
     },
     "execution_count": 164,
     "metadata": {},
     "output_type": "execute_result"
    }
   ],
   "source": [
    "x.shape"
   ]
  },
  {
   "cell_type": "code",
   "execution_count": 167,
   "metadata": {},
   "outputs": [
    {
     "data": {
      "text/plain": [
       "array([[0.47830813, 0.55078818, 0.33718798, 0.55743873, 0.50162801,\n",
       "        0.53056367, 0.73536724, 0.58933634, 0.53177117, 0.5595763 ,\n",
       "        0.70018391, 0.46225847, 0.79092784, 0.61236489, 0.77800192,\n",
       "        0.55762023, 0.34803953, 0.48125089, 0.44613184, 0.28099657,\n",
       "        0.85055018, 0.80539624, 0.34165026, 0.38175032, 0.24358064,\n",
       "        0.29578824, 0.83874299, 0.37951366, 0.46084392, 0.35516888,\n",
       "        0.74185228, 0.41621481, 0.49718243, 0.32907763, 0.48538425,\n",
       "        0.63825799, 0.33658703, 0.64460787, 0.5796489 , 0.53561756]])"
      ]
     },
     "execution_count": 167,
     "metadata": {},
     "output_type": "execute_result"
    }
   ],
   "source": [
    "slres[0].samples"
   ]
  },
  {
   "cell_type": "code",
   "execution_count": 168,
   "metadata": {},
   "outputs": [],
   "source": [
    "avgd = np.mean(slres, axis=1)"
   ]
  },
  {
   "cell_type": "code",
   "execution_count": 169,
   "metadata": {},
   "outputs": [
    {
     "data": {
      "text/plain": [
       "array([0.52467895, 1.09536493, 0.55328126, 0.48438245, 1.24664133,\n",
       "       0.63979345, 0.48977674, 0.90719371, 0.52850383, 0.58040907,\n",
       "       0.54638661, 0.78417773, 0.55204693, 0.71978158, 0.66569092,\n",
       "       0.86260616, 0.68744726, 0.68757964, 0.45633878, 0.68055857,\n",
       "       0.41869518, 0.4193974 , 1.00373762, 0.43289519, 0.36820534,\n",
       "       0.4833251 , 0.64994104, 0.61887942, 0.49075489, 0.54812839,\n",
       "       0.26063003, 0.62632511, 0.41163253, 1.16144881, 0.69227613,\n",
       "       0.73916218, 0.38236254, 0.82462358, 0.82472841, 0.79376269,\n",
       "       0.45016216, 0.7781486 , 0.92722361, 0.72715688, 0.60944299,\n",
       "       0.61942144, 0.41890461, 0.65976123, 0.38591332, 0.42294116,\n",
       "       0.96104312, 0.47871174, 0.65202493, 0.65411608, 0.52019846,\n",
       "       1.34617393, 0.40759749, 0.30563339, 0.70510351, 0.96540715,\n",
       "       0.73831985, 0.78939341, 0.67877672, 0.59252893, 0.57348897,\n",
       "       0.59825542, 1.20013945, 0.72352999, 0.78851598, 0.49173574,\n",
       "       1.25799908, 0.5893709 , 0.29847426, 0.8633797 , 0.52649859,\n",
       "       0.50154294, 0.53586661, 0.67290419, 0.49350371, 0.47788147,\n",
       "       0.55848651, 1.02320016, 0.51049398, 1.16210029, 0.50216374,\n",
       "       1.05797381, 1.34757641, 0.8821159 , 1.05552894, 1.08036512,\n",
       "       1.1537268 , 0.83673923, 1.13828853, 1.06420233, 1.11464321,\n",
       "       1.01432862, 1.16021252, 0.60155252, 1.17915851, 0.28487461,\n",
       "       0.64107606, 0.69563948, 0.51120973, 0.3640075 , 0.529677  ,\n",
       "       0.45942983, 0.41650355, 0.3784882 , 0.7139254 , 0.48669081,\n",
       "       0.45483579, 0.31896121, 0.57379908, 0.72902383, 0.50539643,\n",
       "       0.35988235, 0.71305373, 0.3835311 , 0.46354049, 0.49347552,\n",
       "       0.76404801, 0.55741596, 0.78975666, 0.29609061, 1.20109239,\n",
       "       1.02398435, 0.70687596, 0.89884275, 0.75429392, 0.96087552,\n",
       "       0.87377907, 0.92081957, 1.03600814, 0.68178538, 0.65923176,\n",
       "       0.29733736, 0.36823858, 0.37906855, 0.33947564, 0.53055341,\n",
       "       0.32333712, 0.80372136, 0.3403464 , 0.96689761, 0.42427664,\n",
       "       0.44458331, 0.25160343, 0.36057865, 0.15757867, 0.30427493,\n",
       "       0.56588807, 0.10084835, 0.88393995, 0.22064449, 0.6417067 ,\n",
       "       0.2501562 , 0.55909791, 0.31579329, 0.5882944 , 0.44718647,\n",
       "       0.66883259, 0.31639595, 0.4409976 , 0.28526948, 0.23534942,\n",
       "       0.97035239, 0.20671316, 0.78969824, 0.31755018, 0.54367149,\n",
       "       0.19021425, 0.90360316, 0.45728265, 0.85029804, 0.18970761,\n",
       "       0.38933131, 0.70979989, 0.12136339, 0.80858595, 0.36161304,\n",
       "       0.88866608, 0.21951011, 0.83360217, 0.22043784, 0.65441443,\n",
       "       0.71664334, 0.726542  , 0.93852612, 0.29804598, 0.72496598])"
      ]
     },
     "execution_count": 169,
     "metadata": {},
     "output_type": "execute_result"
    }
   ],
   "source": [
    "avgd"
   ]
  },
  {
   "cell_type": "code",
   "execution_count": 171,
   "metadata": {},
   "outputs": [
    {
     "ename": "TypeError",
     "evalue": "Invalid dimensions for image data",
     "output_type": "error",
     "traceback": [
      "\u001b[0;31m---------------------------------------------------------------------------\u001b[0m",
      "\u001b[0;31mTypeError\u001b[0m                                 Traceback (most recent call last)",
      "\u001b[0;32m<ipython-input-171-206daba55c0f>\u001b[0m in \u001b[0;36m<module>\u001b[0;34m()\u001b[0m\n\u001b[0;32m----> 1\u001b[0;31m \u001b[0mplot_mtx\u001b[0m\u001b[0;34m(\u001b[0m\u001b[0mavgd\u001b[0m\u001b[0;34m,\u001b[0m \u001b[0mconditions\u001b[0m\u001b[0;34m,\u001b[0m \u001b[0;34m'fuck'\u001b[0m\u001b[0;34m)\u001b[0m\u001b[0;34m\u001b[0m\u001b[0m\n\u001b[0m",
      "\u001b[0;32m<ipython-input-35-bb884c62634f>\u001b[0m in \u001b[0;36mplot_mtx\u001b[0;34m(mtx, labels, title)\u001b[0m\n\u001b[1;32m      2\u001b[0m \u001b[0;32mdef\u001b[0m \u001b[0mplot_mtx\u001b[0m\u001b[0;34m(\u001b[0m\u001b[0mmtx\u001b[0m\u001b[0;34m,\u001b[0m \u001b[0mlabels\u001b[0m\u001b[0;34m,\u001b[0m \u001b[0mtitle\u001b[0m\u001b[0;34m)\u001b[0m\u001b[0;34m:\u001b[0m\u001b[0;34m\u001b[0m\u001b[0m\n\u001b[1;32m      3\u001b[0m     \u001b[0mpl\u001b[0m\u001b[0;34m.\u001b[0m\u001b[0mfigure\u001b[0m\u001b[0;34m(\u001b[0m\u001b[0;34m)\u001b[0m\u001b[0;34m\u001b[0m\u001b[0m\n\u001b[0;32m----> 4\u001b[0;31m     \u001b[0mpl\u001b[0m\u001b[0;34m.\u001b[0m\u001b[0mimshow\u001b[0m\u001b[0;34m(\u001b[0m\u001b[0mmtx\u001b[0m\u001b[0;34m,\u001b[0m \u001b[0minterpolation\u001b[0m\u001b[0;34m=\u001b[0m\u001b[0;34m'nearest'\u001b[0m\u001b[0;34m)\u001b[0m\u001b[0;34m\u001b[0m\u001b[0m\n\u001b[0m\u001b[1;32m      5\u001b[0m     \u001b[0mpl\u001b[0m\u001b[0;34m.\u001b[0m\u001b[0mxticks\u001b[0m\u001b[0;34m(\u001b[0m\u001b[0mrange\u001b[0m\u001b[0;34m(\u001b[0m\u001b[0mlen\u001b[0m\u001b[0;34m(\u001b[0m\u001b[0mmtx\u001b[0m\u001b[0;34m)\u001b[0m\u001b[0;34m)\u001b[0m\u001b[0;34m,\u001b[0m \u001b[0mlabels\u001b[0m\u001b[0;34m,\u001b[0m \u001b[0mrotation\u001b[0m\u001b[0;34m=\u001b[0m\u001b[0;34m-\u001b[0m\u001b[0;36m45\u001b[0m\u001b[0;34m)\u001b[0m\u001b[0;34m\u001b[0m\u001b[0m\n\u001b[1;32m      6\u001b[0m     \u001b[0mpl\u001b[0m\u001b[0;34m.\u001b[0m\u001b[0myticks\u001b[0m\u001b[0;34m(\u001b[0m\u001b[0mrange\u001b[0m\u001b[0;34m(\u001b[0m\u001b[0mlen\u001b[0m\u001b[0;34m(\u001b[0m\u001b[0mmtx\u001b[0m\u001b[0;34m)\u001b[0m\u001b[0;34m)\u001b[0m\u001b[0;34m,\u001b[0m \u001b[0mlabels\u001b[0m\u001b[0;34m)\u001b[0m\u001b[0;34m\u001b[0m\u001b[0m\n",
      "\u001b[0;32m/dartfs-hpc/rc/home/1/f0040y1/.conda/envs/comp_meth_env/lib/python2.7/site-packages/matplotlib/pyplot.pyc\u001b[0m in \u001b[0;36mimshow\u001b[0;34m(X, cmap, norm, aspect, interpolation, alpha, vmin, vmax, origin, extent, shape, filternorm, filterrad, imlim, resample, url, hold, data, **kwargs)\u001b[0m\n\u001b[1;32m   3208\u001b[0m                         \u001b[0mfilternorm\u001b[0m\u001b[0;34m=\u001b[0m\u001b[0mfilternorm\u001b[0m\u001b[0;34m,\u001b[0m \u001b[0mfilterrad\u001b[0m\u001b[0;34m=\u001b[0m\u001b[0mfilterrad\u001b[0m\u001b[0;34m,\u001b[0m\u001b[0;34m\u001b[0m\u001b[0m\n\u001b[1;32m   3209\u001b[0m                         \u001b[0mimlim\u001b[0m\u001b[0;34m=\u001b[0m\u001b[0mimlim\u001b[0m\u001b[0;34m,\u001b[0m \u001b[0mresample\u001b[0m\u001b[0;34m=\u001b[0m\u001b[0mresample\u001b[0m\u001b[0;34m,\u001b[0m \u001b[0murl\u001b[0m\u001b[0;34m=\u001b[0m\u001b[0murl\u001b[0m\u001b[0;34m,\u001b[0m \u001b[0mdata\u001b[0m\u001b[0;34m=\u001b[0m\u001b[0mdata\u001b[0m\u001b[0;34m,\u001b[0m\u001b[0;34m\u001b[0m\u001b[0m\n\u001b[0;32m-> 3210\u001b[0;31m                         **kwargs)\n\u001b[0m\u001b[1;32m   3211\u001b[0m     \u001b[0;32mfinally\u001b[0m\u001b[0;34m:\u001b[0m\u001b[0;34m\u001b[0m\u001b[0m\n\u001b[1;32m   3212\u001b[0m         \u001b[0max\u001b[0m\u001b[0;34m.\u001b[0m\u001b[0m_hold\u001b[0m \u001b[0;34m=\u001b[0m \u001b[0mwashold\u001b[0m\u001b[0;34m\u001b[0m\u001b[0m\n",
      "\u001b[0;32m/dartfs-hpc/rc/home/1/f0040y1/.conda/envs/comp_meth_env/lib/python2.7/site-packages/matplotlib/__init__.pyc\u001b[0m in \u001b[0;36minner\u001b[0;34m(ax, *args, **kwargs)\u001b[0m\n\u001b[1;32m   1865\u001b[0m                         \u001b[0;34m\"the Matplotlib list!)\"\u001b[0m \u001b[0;34m%\u001b[0m \u001b[0;34m(\u001b[0m\u001b[0mlabel_namer\u001b[0m\u001b[0;34m,\u001b[0m \u001b[0mfunc\u001b[0m\u001b[0;34m.\u001b[0m\u001b[0m__name__\u001b[0m\u001b[0;34m)\u001b[0m\u001b[0;34m,\u001b[0m\u001b[0;34m\u001b[0m\u001b[0m\n\u001b[1;32m   1866\u001b[0m                         RuntimeWarning, stacklevel=2)\n\u001b[0;32m-> 1867\u001b[0;31m             \u001b[0;32mreturn\u001b[0m \u001b[0mfunc\u001b[0m\u001b[0;34m(\u001b[0m\u001b[0max\u001b[0m\u001b[0;34m,\u001b[0m \u001b[0;34m*\u001b[0m\u001b[0margs\u001b[0m\u001b[0;34m,\u001b[0m \u001b[0;34m**\u001b[0m\u001b[0mkwargs\u001b[0m\u001b[0;34m)\u001b[0m\u001b[0;34m\u001b[0m\u001b[0m\n\u001b[0m\u001b[1;32m   1868\u001b[0m \u001b[0;34m\u001b[0m\u001b[0m\n\u001b[1;32m   1869\u001b[0m         inner.__doc__ = _add_data_doc(inner.__doc__,\n",
      "\u001b[0;32m/dartfs-hpc/rc/home/1/f0040y1/.conda/envs/comp_meth_env/lib/python2.7/site-packages/matplotlib/axes/_axes.pyc\u001b[0m in \u001b[0;36mimshow\u001b[0;34m(self, X, cmap, norm, aspect, interpolation, alpha, vmin, vmax, origin, extent, shape, filternorm, filterrad, imlim, resample, url, **kwargs)\u001b[0m\n\u001b[1;32m   5499\u001b[0m                               resample=resample, **kwargs)\n\u001b[1;32m   5500\u001b[0m \u001b[0;34m\u001b[0m\u001b[0m\n\u001b[0;32m-> 5501\u001b[0;31m         \u001b[0mim\u001b[0m\u001b[0;34m.\u001b[0m\u001b[0mset_data\u001b[0m\u001b[0;34m(\u001b[0m\u001b[0mX\u001b[0m\u001b[0;34m)\u001b[0m\u001b[0;34m\u001b[0m\u001b[0m\n\u001b[0m\u001b[1;32m   5502\u001b[0m         \u001b[0mim\u001b[0m\u001b[0;34m.\u001b[0m\u001b[0mset_alpha\u001b[0m\u001b[0;34m(\u001b[0m\u001b[0malpha\u001b[0m\u001b[0;34m)\u001b[0m\u001b[0;34m\u001b[0m\u001b[0m\n\u001b[1;32m   5503\u001b[0m         \u001b[0;32mif\u001b[0m \u001b[0mim\u001b[0m\u001b[0;34m.\u001b[0m\u001b[0mget_clip_path\u001b[0m\u001b[0;34m(\u001b[0m\u001b[0;34m)\u001b[0m \u001b[0;32mis\u001b[0m \u001b[0mNone\u001b[0m\u001b[0;34m:\u001b[0m\u001b[0;34m\u001b[0m\u001b[0m\n",
      "\u001b[0;32m/dartfs-hpc/rc/home/1/f0040y1/.conda/envs/comp_meth_env/lib/python2.7/site-packages/matplotlib/image.pyc\u001b[0m in \u001b[0;36mset_data\u001b[0;34m(self, A)\u001b[0m\n\u001b[1;32m    652\u001b[0m         if not (self._A.ndim == 2\n\u001b[1;32m    653\u001b[0m                 or self._A.ndim == 3 and self._A.shape[-1] in [3, 4]):\n\u001b[0;32m--> 654\u001b[0;31m             \u001b[0;32mraise\u001b[0m \u001b[0mTypeError\u001b[0m\u001b[0;34m(\u001b[0m\u001b[0;34m\"Invalid dimensions for image data\"\u001b[0m\u001b[0;34m)\u001b[0m\u001b[0;34m\u001b[0m\u001b[0m\n\u001b[0m\u001b[1;32m    655\u001b[0m \u001b[0;34m\u001b[0m\u001b[0m\n\u001b[1;32m    656\u001b[0m         \u001b[0;32mif\u001b[0m \u001b[0mself\u001b[0m\u001b[0;34m.\u001b[0m\u001b[0m_A\u001b[0m\u001b[0;34m.\u001b[0m\u001b[0mndim\u001b[0m \u001b[0;34m==\u001b[0m \u001b[0;36m3\u001b[0m\u001b[0;34m:\u001b[0m\u001b[0;34m\u001b[0m\u001b[0m\n",
      "\u001b[0;31mTypeError\u001b[0m: Invalid dimensions for image data"
     ]
    },
    {
     "data": {
      "image/png": "[encoded data removed]",
      "text/plain": [
       "<Figure size 432x288 with 1 Axes>"
      ]
     },
     "metadata": {
      "needs_background": "light"
     },
     "output_type": "display_data"
    }
   ],
   "source": [
    "plot_mtx(avgd, conditions, 'fuck')"
   ]
  },
  {
   "cell_type": "code",
   "execution_count": null,
   "metadata": {},
   "outputs": [],
   "source": []
  }
 ],
 "metadata": {
  "kernelspec": {
   "display_name": "Python 2",
   "language": "python",
   "name": "python2"
  },
  "language_info": {
   "codemirror_mode": {
    "name": "ipython",
    "version": 2
   },
   "file_extension": ".py",
   "mimetype": "text/x-python",
   "name": "python",
   "nbconvert_exporter": "python",
   "pygments_lexer": "ipython2",
   "version": "2.7.16"
  }
 },
 "nbformat": 4,
 "nbformat_minor": 2
}
