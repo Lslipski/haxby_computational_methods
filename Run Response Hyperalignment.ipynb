{
 "cells": [
  {
   "cell_type": "code",
   "execution_count": 6,
   "metadata": {},
   "outputs": [],
   "source": [
    "import numpy as np\n",
    "import pylab as pl\n",
    "from os.path import join as pjoin\n",
    "import mvpa2.suite as mv\n",
    "import glob\n",
    "from scipy.stats import zscore\n",
    "from mvpa2.mappers.fx import mean_group_sample\n",
    "from mvpa2.measures import rsa\n",
    "from scipy.spatial.distance import pdist\n",
    "import sys\n",
    "import os\n",
    "import re\n",
    "from mvpa2.clfs.knn import kNN\n",
    "\n",
    "from mvpa2.datasets import Dataset\n",
    "from mvpa2.base.dataset import hstack, vstack\n"
   ]
  },
  {
   "cell_type": "markdown",
   "metadata": {},
   "source": [
    "### Set paths, hemispheres, subject IDs, and append relavent npys to variable \"files\""
   ]
  },
  {
   "cell_type": "code",
   "execution_count": 15,
   "metadata": {},
   "outputs": [],
   "source": [
    "data_path = '/dartfs-hpc/scratch/psyc164/tcat/data/budapest/'\n",
    "save_path = '/dartfs-hpc/scratch/psyc164/tcat/data'\n",
    "hemis = ['lh'] #'lh'\n",
    "subids = [5, 7, 9] #, 10, 13, 20, 21, 24, 29, 34, 52, 114, 120, 134, 142, 278, 416, 499, 522, 535, 560]\n",
    "files = []\n",
    "\n",
    "for hemi in hemis:\n",
    "    for subid in subids:\n",
    "        sub = '{:0>6}'.format(subid)\n",
    "        fn = os.path.join(data_path + 'sub-rid' + sub + '*' + hemi + '.npy')\n",
    "        files.append(sorted(glob.glob(fn)))"
   ]
  },
  {
   "cell_type": "markdown",
   "metadata": {},
   "source": [
    "### Import npys listed in files into a pymvpa Dataset object"
   ]
  },
  {
   "cell_type": "code",
   "execution_count": 7,
   "metadata": {},
   "outputs": [],
   "source": [
    "# import \n",
    "targets = range(1,21)\n",
    "ds = None\n",
    "for x in range(len(files)):\n",
    "    d = Dataset(np.load(files[x][0]))#mv.gifti_dataset(files[x], targets=targets)\n",
    "    if ds is None:\n",
    "        ds = d\n",
    "    else:      \n",
    "        ds = vstack((ds,d))\n",
    "\n",
    "# create subject labels and assign to dataset\n",
    "chunk_list = np.repeat(range(len(subids)), (ds.shape[0]/len(subids))) # repeat subid for number of timepoints per sub\n",
    "ds.sa['chunks'] = chunk_list\n",
    "ds.fa['node_indices'] = range(ds.shape[1])\n",
    "#zscore dataset in place\n",
    "_ = zscore(ds)"
   ]
  },
  {
   "cell_type": "markdown",
   "metadata": {},
   "source": [
    "### Run Connectivity Hyperalignment on Dataset"
   ]
  },
  {
   "cell_type": "markdown",
   "metadata": {},
   "source": [
    "#### Set mask ids and seed indices to efficiently sample"
   ]
  },
  {
   "cell_type": "code",
   "execution_count": 19,
   "metadata": {},
   "outputs": [],
   "source": [
    "mask_ids = np.concatenate([\n",
    "        np.arange(10242, dtype=int), np.arange(10242, dtype=int) + ds.shape[1]])\n",
    "seed_indices = np.concatenate([\n",
    "        np.arange(642, dtype=int), np.arange(642, dtype=int) + ds.shape[1]])\n",
    "mask_ids = np.intersect1d(mask_ids, ds[0].fa.node_indices)"
   ]
  },
  {
   "cell_type": "markdown",
   "metadata": {},
   "source": [
    "#### Create Custom Searchlight Query engine"
   ]
  },
  {
   "cell_type": "code",
   "execution_count": 20,
   "metadata": {},
   "outputs": [],
   "source": [
    "# create custom searchlight queryengine\n",
    "radius = 10\n",
    "surface = mv.surf.read(pjoin(data_path, '{0}.pial.gii'.format('lh')))\n",
    "query = mv.SurfaceQueryEngine(surface, radius, distance_metric='dijkstra')"
   ]
  },
  {
   "cell_type": "markdown",
   "metadata": {},
   "source": [
    "#### Run Response Hyperalignment"
   ]
  },
  {
   "cell_type": "code",
   "execution_count": null,
   "metadata": {},
   "outputs": [
    {
     "name": "stdout",
     "output_type": "stream",
     "text": [
      "set up searchlightHA\n",
      "WARNING: Using 0th dataset as the reference dataset (0th after excluding datasets)\n",
      " * Please note: warnings are printed only once, but underlying problem might occur many times *\n",
      "WARNING: 9372 means are too different (max diff=508.492) from 0 in dataset 0 to come from a zscored dataset. Please zscore datasets first for correct operation (unless if was intentional)\n",
      "[SLC] DBG:                     Starting computing block for 40962 elements\n",
      "[SLC] DBG:                     +0:00:05 _______[0%]_______ -2+9:29:36  ROI (1/40962), 21 features"
     ]
    }
   ],
   "source": [
    "slhyper = mv.SearchlightHyperalignment(radius=3, featsel=0.4, queryengine=query)\n",
    "print 'set up searchlightHA'\n",
    "mv.debug.active += ['SLC']\n",
    "slhypmaps = slhyper(ds)\n",
    "print 'here'\n",
    "\n",
    "outfile = save_path + 'rsa_hypermaps'\n",
    "np.save(outfile)"
   ]
  },
  {
   "cell_type": "code",
   "execution_count": null,
   "metadata": {},
   "outputs": [],
   "source": []
  }
 ],
 "metadata": {
  "kernelspec": {
   "display_name": "Python 2",
   "language": "python",
   "name": "python2"
  },
  "language_info": {
   "codemirror_mode": {
    "name": "ipython",
    "version": 2
   },
   "file_extension": ".py",
   "mimetype": "text/x-python",
   "name": "python",
   "nbconvert_exporter": "python",
   "pygments_lexer": "ipython2",
   "version": "2.7.16"
  }
 },
 "nbformat": 4,
 "nbformat_minor": 2
}
