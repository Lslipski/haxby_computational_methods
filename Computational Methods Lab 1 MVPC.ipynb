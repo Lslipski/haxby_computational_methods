{
 "cells": [
  {
   "cell_type": "code",
   "execution_count": 2,
   "metadata": {},
   "outputs": [
    {
     "name": "stderr",
     "output_type": "stream",
     "text": [
      "/dartfs-hpc/rc/home/1/f0040y1/.conda/envs/comp_meth_env/lib/python2.7/site-packages/pydicom/__init__.py:55: DeprecationWarning: Python 2 will no longer be supported after the pydicom v1.4 release\n",
      "  warnings.warn(msg, DeprecationWarning)\n",
      "/dartfs-hpc/rc/home/1/f0040y1/.local/lib/python2.7/site-packages/mvpa2/testing/tools.py:81: DeprecationWarning: Importing from numpy.testing.decorators is deprecated since numpy 1.15.0, import from numpy.testing instead.\n",
      "  from numpy.testing.decorators import skipif\n"
     ]
    }
   ],
   "source": [
    "# import required libraries\n",
    "import mvpa2\n",
    "import os.path\n",
    "from mvpa2.tutorial_suite import *\n",
    "import glob"
   ]
  },
  {
   "cell_type": "code",
   "execution_count": 3,
   "metadata": {},
   "outputs": [
    {
     "name": "stderr",
     "output_type": "stream",
     "text": [
      "/dartfs-hpc/rc/home/1/f0040y1/.local/lib/python2.7/site-packages/mvpa2/datasets/gifti.py:77: DeprecationWarning: giftiio.read function deprecated. Use nibabel.load() instead.\n",
      "\n",
      "* deprecated from version: 2.1\n",
      "* Will raise <class 'nibabel.deprecator.ExpiredDeprecationError'> as of version: 4.0\n",
      "  samples = giftiio.read(samples)\n"
     ]
    }
   ],
   "source": [
    "# set up paths for finding data \n",
    "data_path = '/dartfs-hpc/scratch/psyc164/mvpaces/glm'\n",
    "surface_fname = os.path.join(data_path, 'sub-rid000001_task-beh_run-1_rw-glm.lh.coefs.gii')\n",
    "\n",
    "sds = gifti_dataset(surface_fname)"
   ]
  },
  {
   "cell_type": "code",
   "execution_count": 4,
   "metadata": {},
   "outputs": [
    {
     "data": {
      "text/plain": [
       "20"
      ]
     },
     "execution_count": 4,
     "metadata": {},
     "output_type": "execute_result"
    }
   ],
   "source": [
    "# check number of samples\n",
    "len(sds)"
   ]
  },
  {
   "cell_type": "code",
   "execution_count": 5,
   "metadata": {},
   "outputs": [
    {
     "data": {
      "text/plain": [
       "40962"
      ]
     },
     "execution_count": 5,
     "metadata": {},
     "output_type": "execute_result"
    }
   ],
   "source": [
    "# check number of featrues\n",
    "sds.nfeatures"
   ]
  },
  {
   "cell_type": "code",
   "execution_count": 40,
   "metadata": {},
   "outputs": [],
   "source": [
    "# grab all of subject1's behavior gifti files into a list\n",
    "beh_files = sorted(glob.glob('/dartfs-hpc/scratch/psyc164/mvpaces/glm/sub-rid000001_task-beh*lh.coefs.gii'))\n",
    "# grab all of subject1's taxonomy gifti files into a list\n",
    "tax_files = sorted(glob.glob('/dartfs-hpc/scratch/psyc164/mvpaces/glm/sub-rid000001_task-tax*lh.coefs.gii'))\n",
    "subj_files = beh_files + tax_files #combine the 2 lists for the subject's complete set\n",
    "\n",
    "# create list for targets\n",
    "temp_targets = range(1,21)\n",
    "\n",
    "\n",
    "ds = None # create empty dataset variable\n",
    "for x in range(0, len(subj_files)):  # for each gifti file for this subject\n",
    "    temp_chunks = [x]*20\n",
    "    d = gifti_dataset(subj_files[x], chunks=temp_chunks, targets=temp_targets) \n",
    "    if ds is None:  # for the first pass, just make ds the first gifti\n",
    "        ds = d\n",
    "    else: # for all others, vertically stack the next gifti under (i think) the existing samples\n",
    "        ds = vstack((ds,d))\n"
   ]
  },
  {
   "cell_type": "code",
   "execution_count": 53,
   "metadata": {},
   "outputs": [
    {
     "ename": "AttributeError",
     "evalue": "'FeatureAttributesCollection' object has no attribute 'node_indices'",
     "output_type": "error",
     "traceback": [
      "\u001b[0;31m\u001b[0m",
      "\u001b[0;31mAttributeError\u001b[0mTraceback (most recent call last)",
      "\u001b[0;32m<ipython-input-53-7237656ce069>\u001b[0m in \u001b[0;36m<module>\u001b[0;34m()\u001b[0m\n\u001b[0;32m----> 1\u001b[0;31m \u001b[0mds\u001b[0m\u001b[0;34m.\u001b[0m\u001b[0mfa\u001b[0m\u001b[0;34m.\u001b[0m\u001b[0mnode_indices\u001b[0m\u001b[0;34m\u001b[0m\u001b[0m\n\u001b[0m",
      "\u001b[0;32m/dartfs-hpc/rc/home/1/f0040y1/.local/lib/python2.7/site-packages/mvpa2/base/collections.pyc\u001b[0m in \u001b[0;36m__getattribute__\u001b[0;34m(self, key)\u001b[0m\n\u001b[1;32m    490\u001b[0m             \u001b[0;32mreturn\u001b[0m \u001b[0mself\u001b[0m\u001b[0;34m[\u001b[0m\u001b[0mkey\u001b[0m\u001b[0;34m]\u001b[0m\u001b[0;34m.\u001b[0m\u001b[0mvalue\u001b[0m\u001b[0;34m\u001b[0m\u001b[0m\n\u001b[1;32m    491\u001b[0m         \u001b[0;32mexcept\u001b[0m \u001b[0mKeyError\u001b[0m\u001b[0;34m:\u001b[0m\u001b[0;34m\u001b[0m\u001b[0m\n\u001b[0;32m--> 492\u001b[0;31m             \u001b[0;32mreturn\u001b[0m \u001b[0m_object_getattribute\u001b[0m\u001b[0;34m(\u001b[0m\u001b[0mself\u001b[0m\u001b[0;34m,\u001b[0m \u001b[0mkey\u001b[0m\u001b[0;34m)\u001b[0m\u001b[0;34m\u001b[0m\u001b[0m\n\u001b[0m\u001b[1;32m    493\u001b[0m \u001b[0;34m\u001b[0m\u001b[0m\n\u001b[1;32m    494\u001b[0m \u001b[0;34m\u001b[0m\u001b[0m\n",
      "\u001b[0;31mAttributeError\u001b[0m: 'FeatureAttributesCollection' object has no attribute 'node_indices'"
     ]
    }
   ],
   "source": []
  },
  {
   "cell_type": "code",
   "execution_count": 39,
   "metadata": {},
   "outputs": [
    {
     "name": "stdout",
     "output_type": "stream",
     "text": [
      "[1, 2, 3, 4, 5, 6, 7, 8, 9, 10]\n"
     ]
    }
   ],
   "source": [
    "# check number of samples with all of subject1's giftis loaded. Should be 200\n",
    "temp_chunks = [i for i in range(1,11)]\n",
    "print temp_chunks"
   ]
  },
  {
   "cell_type": "code",
   "execution_count": 8,
   "metadata": {},
   "outputs": [
    {
     "data": {
      "text/plain": [
       "40962"
      ]
     },
     "execution_count": 8,
     "metadata": {},
     "output_type": "execute_result"
    }
   ],
   "source": [
    "# check number of nodes with all of subject1's giftis loaded. Should be 40,962\n",
    "ds.nfeatures"
   ]
  },
  {
   "cell_type": "code",
   "execution_count": 36,
   "metadata": {},
   "outputs": [
    {
     "data": {
      "text/plain": [
       "array([[  3.9534876 ,  -0.43695655, -10.585636  , ...,   4.8139644 ,\n",
       "          0.20275442,  -1.1942437 ],\n",
       "       [  1.2697178 ,  -7.199501  , -11.044861  , ...,  -3.4059372 ,\n",
       "         -1.4120976 ,  -1.1120566 ],\n",
       "       [  4.230085  ,  -2.5236893 , -17.407463  , ...,  -6.259083  ,\n",
       "         -6.1621137 ,  -2.53753   ],\n",
       "       ...,\n",
       "       [  2.4272716 ,  -4.728557  , -20.483679  , ...,  -9.10487   ,\n",
       "         -8.90564   ,  -2.8355129 ],\n",
       "       [ -6.7157383 ,  -5.1460204 ,  -2.2242303 , ...,   8.366821  ,\n",
       "          3.2633743 ,  -6.341244  ],\n",
       "       [ -0.04155796,  -3.311609  ,   0.74648255, ...,  10.623682  ,\n",
       "          7.109033  ,   2.0199761 ]], dtype=float32)"
      ]
     },
     "execution_count": 36,
     "metadata": {},
     "output_type": "execute_result"
    }
   ],
   "source": [
    "ds.samples"
   ]
  },
  {
   "cell_type": "code",
   "execution_count": 18,
   "metadata": {},
   "outputs": [
    {
     "name": "stdout",
     "output_type": "stream",
     "text": [
      "[1, 1, 1, 1, 1, 1, 1, 1, 1, 1, 1, 1, 1, 1, 1, 1, 1, 1, 1, 1, 1, 1, 1, 1, 1, 1, 1, 1, 1, 1, 1, 1, 1, 1, 1, 1, 1, 1, 1, 1, 2, 2, 2, 2, 2, 2, 2, 2, 2, 2, 2, 2, 2, 2, 2, 2, 2, 2, 2, 2, 2, 2, 2, 2, 2, 2, 2, 2, 2, 2, 2, 2, 2, 2, 2, 2, 2, 2, 2, 2, 3, 3, 3, 3, 3, 3, 3, 3, 3, 3, 3, 3, 3, 3, 3, 3, 3, 3, 3, 3, 3, 3, 3, 3, 3, 3, 3, 3, 3, 3, 3, 3, 3, 3, 3, 3, 3, 3, 3, 3, 4, 4, 4, 4, 4, 4, 4, 4, 4, 4, 4, 4, 4, 4, 4, 4, 4, 4, 4, 4, 4, 4, 4, 4, 4, 4, 4, 4, 4, 4, 4, 4, 4, 4, 4, 4, 4, 4, 4, 4, 5, 5, 5, 5, 5, 5, 5, 5, 5, 5, 5, 5, 5, 5, 5, 5, 5, 5, 5, 5, 5, 5, 5, 5, 5, 5, 5, 5, 5, 5, 5, 5, 5, 5, 5, 5, 5, 5, 5, 5, 6, 6, 6, 6, 6, 6, 6, 6, 6, 6, 6, 6, 6, 6, 6, 6, 6, 6, 6, 6, 6, 6, 6, 6, 6, 6, 6, 6, 6, 6, 6, 6, 6, 6, 6, 6, 6, 6, 6, 6, 7, 7, 7, 7, 7, 7, 7, 7, 7, 7, 7, 7, 7, 7, 7, 7, 7, 7, 7, 7, 7, 7, 7, 7, 7, 7, 7, 7, 7, 7, 7, 7, 7, 7, 7, 7, 7, 7, 7, 7, 8, 8, 8, 8, 8, 8, 8, 8, 8, 8, 8, 8, 8, 8, 8, 8, 8, 8, 8, 8, 8, 8, 8, 8, 8, 8, 8, 8, 8, 8, 8, 8, 8, 8, 8, 8, 8, 8, 8, 8, 9, 9, 9, 9, 9, 9, 9, 9, 9, 9, 9, 9, 9, 9, 9, 9, 9, 9, 9, 9, 9, 9, 9, 9, 9, 9, 9, 9, 9, 9, 9, 9, 9, 9, 9, 9, 9, 9, 9, 9, 10, 10, 10, 10, 10, 10, 10, 10, 10, 10, 10, 10, 10, 10, 10, 10, 10, 10, 10, 10, 10, 10, 10, 10, 10, 10, 10, 10, 10, 10, 10, 10, 10, 10, 10, 10, 10, 10, 10, 10]\n"
     ]
    }
   ],
   "source": [
    "# create list for chunks. \n",
    "# Each gifti has 1 row for each of 20 conditions\n",
    "# Each run has 1 gifti per hemisphere\n",
    "# 40 rows per run total\n",
    "chunks = [i for i in range(1,11) for _ in range (40)]\n",
    "print(chunks)"
   ]
  },
  {
   "cell_type": "code",
   "execution_count": 25,
   "metadata": {},
   "outputs": [
    {
     "name": "stdout",
     "output_type": "stream",
     "text": [
      "[1, 2, 3, 4, 5, 6, 7, 8, 9, 10, 11, 12, 13, 14, 15, 16, 17, 18, 19, 20, 1, 2, 3, 4, 5, 6, 7, 8, 9, 10, 11, 12, 13, 14, 15, 16, 17, 18, 19, 20, 1, 2, 3, 4, 5, 6, 7, 8, 9, 10, 11, 12, 13, 14, 15, 16, 17, 18, 19, 20, 1, 2, 3, 4, 5, 6, 7, 8, 9, 10, 11, 12, 13, 14, 15, 16, 17, 18, 19, 20, 1, 2, 3, 4, 5, 6, 7, 8, 9, 10, 11, 12, 13, 14, 15, 16, 17, 18, 19, 20, 1, 2, 3, 4, 5, 6, 7, 8, 9, 10, 11, 12, 13, 14, 15, 16, 17, 18, 19, 20, 1, 2, 3, 4, 5, 6, 7, 8, 9, 10, 11, 12, 13, 14, 15, 16, 17, 18, 19, 20, 1, 2, 3, 4, 5, 6, 7, 8, 9, 10, 11, 12, 13, 14, 15, 16, 17, 18, 19, 20, 1, 2, 3, 4, 5, 6, 7, 8, 9, 10, 11, 12, 13, 14, 15, 16, 17, 18, 19, 20, 1, 2, 3, 4, 5, 6, 7, 8, 9, 10, 11, 12, 13, 14, 15, 16, 17, 18, 19, 20, 1, 2, 3, 4, 5, 6, 7, 8, 9, 10, 11, 12, 13, 14, 15, 16, 17, 18, 19, 20, 1, 2, 3, 4, 5, 6, 7, 8, 9, 10, 11, 12, 13, 14, 15, 16, 17, 18, 19, 20, 1, 2, 3, 4, 5, 6, 7, 8, 9, 10, 11, 12, 13, 14, 15, 16, 17, 18, 19, 20, 1, 2, 3, 4, 5, 6, 7, 8, 9, 10, 11, 12, 13, 14, 15, 16, 17, 18, 19, 20, 1, 2, 3, 4, 5, 6, 7, 8, 9, 10, 11, 12, 13, 14, 15, 16, 17, 18, 19, 20, 1, 2, 3, 4, 5, 6, 7, 8, 9, 10, 11, 12, 13, 14, 15, 16, 17, 18, 19, 20, 1, 2, 3, 4, 5, 6, 7, 8, 9, 10, 11, 12, 13, 14, 15, 16, 17, 18, 19, 20, 1, 2, 3, 4, 5, 6, 7, 8, 9, 10, 11, 12, 13, 14, 15, 16, 17, 18, 19, 20, 1, 2, 3, 4, 5, 6, 7, 8, 9, 10, 11, 12, 13, 14, 15, 16, 17, 18, 19, 20, 1, 2, 3, 4, 5, 6, 7, 8, 9, 10, 11, 12, 13, 14, 15, 16, 17, 18, 19, 20, 1, 2, 3, 4, 5, 6, 7, 8, 9, 10, 11, 12, 13, 14, 15, 16, 17, 18, 19, 20, 1, 2, 3, 4, 5, 6, 7, 8, 9, 10, 11, 12, 13, 14, 15, 16, 17, 18, 19, 20, 1, 2, 3, 4, 5, 6, 7, 8, 9, 10, 11, 12, 13, 14, 15, 16, 17, 18, 19, 20, 1, 2, 3, 4, 5, 6, 7, 8, 9, 10, 11, 12, 13, 14, 15, 16, 17, 18, 19, 20, 1, 2, 3, 4, 5, 6, 7, 8, 9, 10, 11, 12, 13, 14, 15, 16, 17, 18, 19, 20, 1, 2, 3, 4, 5, 6, 7, 8, 9, 10, 11, 12, 13, 14, 15, 16, 17, 18, 19, 20, 1, 2, 3, 4, 5, 6, 7, 8, 9, 10, 11, 12, 13, 14, 15, 16, 17, 18, 19, 20, 1, 2, 3, 4, 5, 6, 7, 8, 9, 10, 11, 12, 13, 14, 15, 16, 17, 18, 19, 20, 1, 2, 3, 4, 5, 6, 7, 8, 9, 10, 11, 12, 13, 14, 15, 16, 17, 18, 19, 20, 1, 2, 3, 4, 5, 6, 7, 8, 9, 10, 11, 12, 13, 14, 15, 16, 17, 18, 19, 20, 1, 2, 3, 4, 5, 6, 7, 8, 9, 10, 11, 12, 13, 14, 15, 16, 17, 18, 19, 20, 1, 2, 3, 4, 5, 6, 7, 8, 9, 10, 11, 12, 13, 14, 15, 16, 17, 18, 19, 20, 1, 2, 3, 4, 5, 6, 7, 8, 9, 10, 11, 12, 13, 14, 15, 16, 17, 18, 19, 20, 1, 2, 3, 4, 5, 6, 7, 8, 9, 10, 11, 12, 13, 14, 15, 16, 17, 18, 19, 20, 1, 2, 3, 4, 5, 6, 7, 8, 9, 10, 11, 12, 13, 14, 15, 16, 17, 18, 19, 20, 1, 2, 3, 4, 5, 6, 7, 8, 9, 10, 11, 12, 13, 14, 15, 16, 17, 18, 19, 20, 1, 2, 3, 4, 5, 6, 7, 8, 9, 10, 11, 12, 13, 14, 15, 16, 17, 18, 19, 20, 1, 2, 3, 4, 5, 6, 7, 8, 9, 10, 11, 12, 13, 14, 15, 16, 17, 18, 19, 20, 1, 2, 3, 4, 5, 6, 7, 8, 9, 10, 11, 12, 13, 14, 15, 16, 17, 18, 19, 20, 1, 2, 3, 4, 5, 6, 7, 8, 9, 10, 11, 12, 13, 14, 15, 16, 17, 18, 19, 20]\n"
     ]
    }
   ],
   "source": [
    "# create list for targets\n",
    "targets = range(1,21)*40\n",
    "print(targets)"
   ]
  },
  {
   "cell_type": "code",
   "execution_count": 31,
   "metadata": {},
   "outputs": [],
   "source": [
    "# assign chunks and targets to existing ds\n",
    "ds.sa.chunks=chunks\n",
    "ds.sa.targets=targets"
   ]
  },
  {
   "cell_type": "code",
   "execution_count": 32,
   "metadata": {},
   "outputs": [
    {
     "data": {
      "text/plain": [
       "(200, 40962)"
      ]
     },
     "execution_count": 32,
     "metadata": {},
     "output_type": "execute_result"
    }
   ],
   "source": [
    "ds.shape"
   ]
  },
  {
   "cell_type": "code",
   "execution_count": 35,
   "metadata": {},
   "outputs": [
    {
     "data": {
      "text/plain": [
       "SampleAttributesCollection(items=[ArrayCollectable(name='intents', doc=None, value=array(['NIFTI_INTENT_NONE', 'NIFTI_INTENT_NONE', 'NIFTI_INTENT_NONE',\n",
       "       'NIFTI_INTENT_NONE', 'NIFTI_INTENT_NONE', 'NIFTI_INTENT_NONE',\n",
       "       'NIFTI_INTENT_NONE', 'NIFTI_INTENT_NONE', 'NIFTI_INTENT_NONE',\n",
       "       'NIFTI_INTENT_NONE', 'NIFTI_INTENT_NONE', 'NIFTI_INTENT_NONE',\n",
       "       'NIFTI_INTENT_NONE', 'NIFTI_INTENT_NONE', 'NIFTI_INTENT_NONE',\n",
       "       'NIFTI_INTENT_NONE', 'NIFTI_INTENT_NONE', 'NIFTI_INTENT_NONE',\n",
       "       'NIFTI_INTENT_NONE', 'NIFTI_INTENT_NONE', 'NIFTI_INTENT_NONE',\n",
       "       'NIFTI_INTENT_NONE', 'NIFTI_INTENT_NONE', 'NIFTI_INTENT_NONE',\n",
       "       'NIFTI_INTENT_NONE', 'NIFTI_INTENT_NONE', 'NIFTI_INTENT_NONE',\n",
       "       'NIFTI_INTENT_NONE', 'NIFTI_INTENT_NONE', 'NIFTI_INTENT_NONE',\n",
       "       'NIFTI_INTENT_NONE', 'NIFTI_INTENT_NONE', 'NIFTI_INTENT_NONE',\n",
       "       'NIFTI_INTENT_NONE', 'NIFTI_INTENT_NONE', 'NIFTI_INTENT_NONE',\n",
       "       'NIFTI_INTENT_NONE', 'NIFTI_INTENT_NONE', 'NIFTI_INTENT_NONE',\n",
       "       'NIFTI_INTENT_NONE', 'NIFTI_INTENT_NONE', 'NIFTI_INTENT_NONE',\n",
       "       'NIFTI_INTENT_NONE', 'NIFTI_INTENT_NONE', 'NIFTI_INTENT_NONE',\n",
       "       'NIFTI_INTENT_NONE', 'NIFTI_INTENT_NONE', 'NIFTI_INTENT_NONE',\n",
       "       'NIFTI_INTENT_NONE', 'NIFTI_INTENT_NONE', 'NIFTI_INTENT_NONE',\n",
       "       'NIFTI_INTENT_NONE', 'NIFTI_INTENT_NONE', 'NIFTI_INTENT_NONE',\n",
       "       'NIFTI_INTENT_NONE', 'NIFTI_INTENT_NONE', 'NIFTI_INTENT_NONE',\n",
       "       'NIFTI_INTENT_NONE', 'NIFTI_INTENT_NONE', 'NIFTI_INTENT_NONE',\n",
       "       'NIFTI_INTENT_NONE', 'NIFTI_INTENT_NONE', 'NIFTI_INTENT_NONE',\n",
       "       'NIFTI_INTENT_NONE', 'NIFTI_INTENT_NONE', 'NIFTI_INTENT_NONE',\n",
       "       'NIFTI_INTENT_NONE', 'NIFTI_INTENT_NONE', 'NIFTI_INTENT_NONE',\n",
       "       'NIFTI_INTENT_NONE', 'NIFTI_INTENT_NONE', 'NIFTI_INTENT_NONE',\n",
       "       'NIFTI_INTENT_NONE', 'NIFTI_INTENT_NONE', 'NIFTI_INTENT_NONE',\n",
       "       'NIFTI_INTENT_NONE', 'NIFTI_INTENT_NONE', 'NIFTI_INTENT_NONE',\n",
       "       'NIFTI_INTENT_NONE', 'NIFTI_INTENT_NONE', 'NIFTI_INTENT_NONE',\n",
       "       'NIFTI_INTENT_NONE', 'NIFTI_INTENT_NONE', 'NIFTI_INTENT_NONE',\n",
       "       'NIFTI_INTENT_NONE', 'NIFTI_INTENT_NONE', 'NIFTI_INTENT_NONE',\n",
       "       'NIFTI_INTENT_NONE', 'NIFTI_INTENT_NONE', 'NIFTI_INTENT_NONE',\n",
       "       'NIFTI_INTENT_NONE', 'NIFTI_INTENT_NONE', 'NIFTI_INTENT_NONE',\n",
       "       'NIFTI_INTENT_NONE', 'NIFTI_INTENT_NONE', 'NIFTI_INTENT_NONE',\n",
       "       'NIFTI_INTENT_NONE', 'NIFTI_INTENT_NONE', 'NIFTI_INTENT_NONE',\n",
       "       'NIFTI_INTENT_NONE', 'NIFTI_INTENT_NONE', 'NIFTI_INTENT_NONE',\n",
       "       'NIFTI_INTENT_NONE', 'NIFTI_INTENT_NONE', 'NIFTI_INTENT_NONE',\n",
       "       'NIFTI_INTENT_NONE', 'NIFTI_INTENT_NONE', 'NIFTI_INTENT_NONE',\n",
       "       'NIFTI_INTENT_NONE', 'NIFTI_INTENT_NONE', 'NIFTI_INTENT_NONE',\n",
       "       'NIFTI_INTENT_NONE', 'NIFTI_INTENT_NONE', 'NIFTI_INTENT_NONE',\n",
       "       'NIFTI_INTENT_NONE', 'NIFTI_INTENT_NONE', 'NIFTI_INTENT_NONE',\n",
       "       'NIFTI_INTENT_NONE', 'NIFTI_INTENT_NONE', 'NIFTI_INTENT_NONE',\n",
       "       'NIFTI_INTENT_NONE', 'NIFTI_INTENT_NONE', 'NIFTI_INTENT_NONE',\n",
       "       'NIFTI_INTENT_NONE', 'NIFTI_INTENT_NONE', 'NIFTI_INTENT_NONE',\n",
       "       'NIFTI_INTENT_NONE', 'NIFTI_INTENT_NONE', 'NIFTI_INTENT_NONE',\n",
       "       'NIFTI_INTENT_NONE', 'NIFTI_INTENT_NONE', 'NIFTI_INTENT_NONE',\n",
       "       'NIFTI_INTENT_NONE', 'NIFTI_INTENT_NONE', 'NIFTI_INTENT_NONE',\n",
       "       'NIFTI_INTENT_NONE', 'NIFTI_INTENT_NONE', 'NIFTI_INTENT_NONE',\n",
       "       'NIFTI_INTENT_NONE', 'NIFTI_INTENT_NONE', 'NIFTI_INTENT_NONE',\n",
       "       'NIFTI_INTENT_NONE', 'NIFTI_INTENT_NONE', 'NIFTI_INTENT_NONE',\n",
       "       'NIFTI_INTENT_NONE', 'NIFTI_INTENT_NONE', 'NIFTI_INTENT_NONE',\n",
       "       'NIFTI_INTENT_NONE', 'NIFTI_INTENT_NONE', 'NIFTI_INTENT_NONE',\n",
       "       'NIFTI_INTENT_NONE', 'NIFTI_INTENT_NONE', 'NIFTI_INTENT_NONE',\n",
       "       'NIFTI_INTENT_NONE', 'NIFTI_INTENT_NONE', 'NIFTI_INTENT_NONE',\n",
       "       'NIFTI_INTENT_NONE', 'NIFTI_INTENT_NONE', 'NIFTI_INTENT_NONE',\n",
       "       'NIFTI_INTENT_NONE', 'NIFTI_INTENT_NONE', 'NIFTI_INTENT_NONE',\n",
       "       'NIFTI_INTENT_NONE', 'NIFTI_INTENT_NONE', 'NIFTI_INTENT_NONE',\n",
       "       'NIFTI_INTENT_NONE', 'NIFTI_INTENT_NONE', 'NIFTI_INTENT_NONE',\n",
       "       'NIFTI_INTENT_NONE', 'NIFTI_INTENT_NONE', 'NIFTI_INTENT_NONE',\n",
       "       'NIFTI_INTENT_NONE', 'NIFTI_INTENT_NONE', 'NIFTI_INTENT_NONE',\n",
       "       'NIFTI_INTENT_NONE', 'NIFTI_INTENT_NONE', 'NIFTI_INTENT_NONE',\n",
       "       'NIFTI_INTENT_NONE', 'NIFTI_INTENT_NONE', 'NIFTI_INTENT_NONE',\n",
       "       'NIFTI_INTENT_NONE', 'NIFTI_INTENT_NONE', 'NIFTI_INTENT_NONE',\n",
       "       'NIFTI_INTENT_NONE', 'NIFTI_INTENT_NONE', 'NIFTI_INTENT_NONE',\n",
       "       'NIFTI_INTENT_NONE', 'NIFTI_INTENT_NONE', 'NIFTI_INTENT_NONE',\n",
       "       'NIFTI_INTENT_NONE', 'NIFTI_INTENT_NONE', 'NIFTI_INTENT_NONE',\n",
       "       'NIFTI_INTENT_NONE', 'NIFTI_INTENT_NONE', 'NIFTI_INTENT_NONE',\n",
       "       'NIFTI_INTENT_NONE', 'NIFTI_INTENT_NONE', 'NIFTI_INTENT_NONE',\n",
       "       'NIFTI_INTENT_NONE', 'NIFTI_INTENT_NONE'], dtype='|S17'), length=200)])"
      ]
     },
     "execution_count": 35,
     "metadata": {},
     "output_type": "execute_result"
    }
   ],
   "source": [
    "ds.sa"
   ]
  },
  {
   "cell_type": "code",
   "execution_count": null,
   "metadata": {},
   "outputs": [],
   "source": []
  }
 ],
 "metadata": {
  "kernelspec": {
   "display_name": "Python 2",
   "language": "python",
   "name": "anaconda2"
  },
  "language_info": {
   "codemirror_mode": {
    "name": "ipython",
    "version": 2
   },
   "file_extension": ".py",
   "mimetype": "text/x-python",
   "name": "python",
   "nbconvert_exporter": "python",
   "pygments_lexer": "ipython2",
   "version": "2.7.15"
  }
 },
 "nbformat": 4,
 "nbformat_minor": 2
}
