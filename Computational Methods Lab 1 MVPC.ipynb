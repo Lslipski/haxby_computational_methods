{
 "cells": [
  {
   "cell_type": "code",
   "execution_count": 11,
   "metadata": {},
   "outputs": [],
   "source": [
    "# import required libraries\n",
    "import mvpa2\n",
    "import os.path\n",
    "from mvpa2.tutorial_suite import *\n",
    "import glob"
   ]
  },
  {
   "cell_type": "code",
   "execution_count": 7,
   "metadata": {},
   "outputs": [],
   "source": [
    "# set up paths for finding data \n",
    "data_path = '/dartfs-hpc/scratch/psyc164/mvpaces/glm'\n",
    "surface_fname = os.path.join(data_path, 'sub-rid000001_task-beh_run-1_rw-glm.lh.coefs.gii')\n",
    "\n",
    "sds = gifti_dataset(surface_fname)"
   ]
  },
  {
   "cell_type": "code",
   "execution_count": 10,
   "metadata": {},
   "outputs": [
    {
     "data": {
      "text/plain": [
       "40962"
      ]
     },
     "execution_count": 10,
     "metadata": {},
     "output_type": "execute_result"
    }
   ],
   "source": [
    "# check number of samples\n",
    "len(sds)"
   ]
  },
  {
   "cell_type": "code",
   "execution_count": 9,
   "metadata": {},
   "outputs": [
    {
     "data": {
      "text/plain": [
       "40962"
      ]
     },
     "execution_count": 9,
     "metadata": {},
     "output_type": "execute_result"
    }
   ],
   "source": [
    "# check number of featrues\n",
    "sds.nfeatures"
   ]
  },
  {
   "cell_type": "code",
   "execution_count": 19,
   "metadata": {},
   "outputs": [],
   "source": [
    "# grab all of subject1's behavior gifti files into a list\n",
    "beh_files = sorted(glob.glob('/dartfs-hpc/scratch/psyc164/mvpaces/glm/sub-rid000001_task-beh*lh.coefs.gii'))\n",
    "# grab all of subject1's taxonomy gifti files into a list\n",
    "tax_files = sorted(glob.glob('/dartfs-hpc/scratch/psyc164/mvpaces/glm/sub-rid000001_task-tax*lh.coefs.gii'))\n",
    "subj_files = beh_files + tax_files #combine the 2 lists for the subject's complete set\n",
    "\n",
    "ds = None # create empty dataset variable\n",
    "for x in range(0, len(subj_files)):  # for each gifti file for this subject\n",
    "    d = gifti_dataset(subj_files[x]) \n",
    "    if ds is None:  # for the first pass, just make ds the first gifti\n",
    "        ds = d\n",
    "    else: # for all others, vertically stack the next gifti under (i think) the existing samples\n",
    "        ds = vstack((ds,d))\n"
   ]
  },
  {
   "cell_type": "code",
   "execution_count": 20,
   "metadata": {},
   "outputs": [
    {
     "data": {
      "text/plain": [
       "200"
      ]
     },
     "execution_count": 20,
     "metadata": {},
     "output_type": "execute_result"
    }
   ],
   "source": [
    "# check number of samples with all of subject1's giftis loaded. Should be 200\n",
    "len(ds)"
   ]
  },
  {
   "cell_type": "code",
   "execution_count": 21,
   "metadata": {},
   "outputs": [
    {
     "data": {
      "text/plain": [
       "40962"
      ]
     },
     "execution_count": 21,
     "metadata": {},
     "output_type": "execute_result"
    }
   ],
   "source": [
    "# check number of nodes with all of subject1's giftis loaded. Should be 40,962\n",
    "ds.nfeatures"
   ]
  }
 ],
 "metadata": {
  "kernelspec": {
   "display_name": "Python 2",
   "language": "python",
   "name": "python2"
  },
  "language_info": {
   "codemirror_mode": {
    "name": "ipython",
    "version": 2
   },
   "file_extension": ".py",
   "mimetype": "text/x-python",
   "name": "python",
   "nbconvert_exporter": "python",
   "pygments_lexer": "ipython2",
   "version": "2.7.16"
  }
 },
 "nbformat": 4,
 "nbformat_minor": 2
}
