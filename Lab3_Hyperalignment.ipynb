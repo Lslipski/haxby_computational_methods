{
 "cells": [
  {
   "cell_type": "code",
   "execution_count": 1,
   "metadata": {},
   "outputs": [
    {
     "ename": "ModuleNotFoundError",
     "evalue": "No module named 'mvpa2'",
     "output_type": "error",
     "traceback": [
      "\u001b[0;31m---------------------------------------------------------------------------\u001b[0m",
      "\u001b[0;31mModuleNotFoundError\u001b[0m                       Traceback (most recent call last)",
      "\u001b[0;32m<ipython-input-1-bf8b65e5d64b>\u001b[0m in \u001b[0;36m<module>\u001b[0;34m\u001b[0m\n\u001b[1;32m      2\u001b[0m \u001b[0;32mimport\u001b[0m \u001b[0mpylab\u001b[0m \u001b[0;32mas\u001b[0m \u001b[0mpl\u001b[0m\u001b[0;34m\u001b[0m\u001b[0;34m\u001b[0m\u001b[0m\n\u001b[1;32m      3\u001b[0m \u001b[0;32mfrom\u001b[0m \u001b[0mos\u001b[0m\u001b[0;34m.\u001b[0m\u001b[0mpath\u001b[0m \u001b[0;32mimport\u001b[0m \u001b[0mjoin\u001b[0m \u001b[0;32mas\u001b[0m \u001b[0mpjoin\u001b[0m\u001b[0;34m\u001b[0m\u001b[0;34m\u001b[0m\u001b[0m\n\u001b[0;32m----> 4\u001b[0;31m \u001b[0;32mimport\u001b[0m \u001b[0mmvpa2\u001b[0m\u001b[0;34m.\u001b[0m\u001b[0msuite\u001b[0m \u001b[0;32mas\u001b[0m \u001b[0mmv\u001b[0m\u001b[0;34m\u001b[0m\u001b[0;34m\u001b[0m\u001b[0m\n\u001b[0m\u001b[1;32m      5\u001b[0m \u001b[0;32mimport\u001b[0m \u001b[0mglob\u001b[0m\u001b[0;34m\u001b[0m\u001b[0;34m\u001b[0m\u001b[0m\n\u001b[1;32m      6\u001b[0m \u001b[0;32mfrom\u001b[0m \u001b[0mscipy\u001b[0m\u001b[0;34m.\u001b[0m\u001b[0mstats\u001b[0m \u001b[0;32mimport\u001b[0m \u001b[0mzscore\u001b[0m\u001b[0;34m\u001b[0m\u001b[0;34m\u001b[0m\u001b[0m\n",
      "\u001b[0;31mModuleNotFoundError\u001b[0m: No module named 'mvpa2'"
     ]
    }
   ],
   "source": [
    "import numpy as np\n",
    "import pylab as pl\n",
    "from os.path import join as pjoin\n",
    "import mvpa2.suite as mv\n",
    "import glob\n",
    "from scipy.stats import zscore\n",
    "from mvpa2.mappers.fx import mean_group_sample\n",
    "from mvpa2.measures import rsa\n",
    "from scipy.spatial.distance import pdist\n",
    "import sys"
   ]
  },
  {
   "cell_type": "code",
   "execution_count": 2,
   "metadata": {},
   "outputs": [],
   "source": [
    "subid = [1,12] # just two for now , 17, 27, 32, 33, 34,36,37,41]\n",
    "subjs = ['{:0>6}'.format(i) for i in subid]"
   ]
  },
  {
   "cell_type": "code",
   "execution_count": 4,
   "metadata": {},
   "outputs": [
    {
     "name": "stdout",
     "output_type": "stream",
     "text": [
      "WARNING: Detected incorrect (nan) scl_ fields. Resetting to scl_slope=1.0 and scl_inter=0.0\n",
      " * Please note: warnings are printed only once, but underlying problem might occur many times *\n"
     ]
    }
   ],
   "source": [
    "# looking at one .nii for one subject from Life dataset\n",
    "subj1_dir = '/dartfs-hpc/scratch/psyc164/mvpaces/lab3/life/sub-rid000001/func'\n",
    "subj1_file = 'sub-rid000001_task-life_acq-374vol_run-01_bold.nii.gz'\n",
    "ds1 = mv.fmri_dataset(pjoin(subj1_dir, subj1_file))"
   ]
  },
  {
   "cell_type": "code",
   "execution_count": 11,
   "metadata": {},
   "outputs": [
    {
     "ename": "TypeError",
     "evalue": "cannot concatenate 'str' and 'list' objects",
     "output_type": "error",
     "traceback": [
      "\u001b[0;31m---------------------------------------------------------------------------\u001b[0m",
      "\u001b[0;31mTypeError\u001b[0m                                 Traceback (most recent call last)",
      "\u001b[0;32m<ipython-input-11-d98fd9bea2bb>\u001b[0m in \u001b[0;36m<module>\u001b[0;34m()\u001b[0m\n\u001b[1;32m      4\u001b[0m \u001b[0mdata_path\u001b[0m \u001b[0;34m=\u001b[0m \u001b[0;34m'/dartfs-hpc/scratch/psyc164/mvpaces/lab3/life/'\u001b[0m\u001b[0;34m\u001b[0m\u001b[0m\n\u001b[1;32m      5\u001b[0m \u001b[0;34m\u001b[0m\u001b[0m\n\u001b[0;32m----> 6\u001b[0;31m \u001b[0mprefix\u001b[0m \u001b[0;34m=\u001b[0m \u001b[0mdata_path\u001b[0m\u001b[0;34m+\u001b[0m\u001b[0;34m'sub-rid'\u001b[0m\u001b[0;34m+\u001b[0m\u001b[0msub\u001b[0m\u001b[0;34m\u001b[0m\u001b[0m\n\u001b[0m",
      "\u001b[0;31mTypeError\u001b[0m: cannot concatenate 'str' and 'list' objects"
     ]
    }
   ],
   "source": [
    "# import 2 subjects images and hyperalign\n",
    "subid = [1,12] # just two for now , 17, 27, 32, 33, 34,36,37,41]\n",
    "sub = ['{:0>6}'.format(i) for i in subid]\n",
    "data_path = '/dartfs-hpc/scratch/psyc164/mvpaces/lab3/life/'\n",
    "\n",
    "prefix = data_path+'sub-rid'+sub\n"
   ]
  },
  {
   "cell_type": "code",
   "execution_count": 12,
   "metadata": {},
   "outputs": [
    {
     "data": {
      "text/plain": [
       "['000001', '000012']"
      ]
     },
     "execution_count": 12,
     "metadata": {},
     "output_type": "execute_result"
    }
   ],
   "source": [
    "subid = [1,12] # just two for now , 17, 27, 32, 33, 34,36,37,41]\n",
    "sub = ['{:0>6}'.format(i) for i in subid]\n",
    "suffix = hemi+'.nii.gz'\n",
    "\n",
    "for subject in sub:\n",
    "    prefix = data_path+'sub-rid'+subject\n",
    "    fn = prefix + '*' + suffix\n",
    "    files = sorted(glob.glob(fn))\n",
    "\n",
    "    ds = None\n",
    "    for x in range(len(files)):\n",
    "        if x < 5:\n",
    "            chunks = [x+1]*20\n",
    "        else:\n",
    "            chunks = [x-5+1]*20\n",
    "\n",
    "        d = mv.fmri_dataset(files[x], chunks=chunks, targets=targets)\n",
    "        # d.sa['conditions']=conditions\n",
    "        # d.sa['taxonomy'] = taxonomy\n",
    "        # d.sa['behavior'] = behavior\n",
    "        if ds is None:\n",
    "            ds = d\n",
    "        else:      \n",
    "            ds = mv.vstack((ds,d))\n",
    "    "
   ]
  },
  {
   "cell_type": "code",
   "execution_count": null,
   "metadata": {},
   "outputs": [],
   "source": []
  }
 ],
 "metadata": {
  "kernelspec": {
   "display_name": "Python 3",
   "language": "python",
   "name": "python3"
  },
  "language_info": {
   "codemirror_mode": {
    "name": "ipython",
    "version": 3
   },
   "file_extension": ".py",
   "mimetype": "text/x-python",
   "name": "python",
   "nbconvert_exporter": "python",
   "pygments_lexer": "ipython3",
   "version": "3.7.4"
  }
 },
 "nbformat": 4,
 "nbformat_minor": 2
}
